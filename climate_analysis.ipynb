{
 "cells": [
  {
   "cell_type": "code",
   "execution_count": null,
   "metadata": {},
   "outputs": [],
   "source": [
    "%matplotlib inline\n",
    "from matplotlib import style\n",
    "style.use('fivethirtyeight')\n",
    "import matplotlib.pyplot as plt\n",
    "from scipy import stats as st"
   ]
  },
  {
   "cell_type": "code",
   "execution_count": null,
   "metadata": {},
   "outputs": [],
   "source": [
    "import numpy as np\n",
    "import pandas as pd"
   ]
  },
  {
   "cell_type": "code",
   "execution_count": null,
   "metadata": {},
   "outputs": [],
   "source": [
    "import datetime as dt"
   ]
  },
  {
   "cell_type": "markdown",
   "metadata": {},
   "source": [
    "# Reflect Tables into SQLAlchemy ORM"
   ]
  },
  {
   "cell_type": "code",
   "execution_count": null,
   "metadata": {},
   "outputs": [],
   "source": [
    "# Python SQL toolkit and Object Relational Mapper\n",
    "import sqlalchemy\n",
    "from sqlalchemy.ext.automap import automap_base\n",
    "from sqlalchemy.orm import Session\n",
    "from sqlalchemy import create_engine, func"
   ]
  },
  {
   "cell_type": "code",
   "execution_count": null,
   "metadata": {},
   "outputs": [],
   "source": [
    "engine = create_engine(\"sqlite:///Resources/hawaii.sqlite\")\n",
    "conn=engine.connect()"
   ]
  },
  {
   "cell_type": "code",
   "execution_count": null,
   "metadata": {},
   "outputs": [],
   "source": [
    "# reflect an existing database into a new model\n",
    "Base = automap_base()\n",
    "Base.prepare(engine, reflect=True)\n",
    "# reflect the tables\n",
    "Base.classes.keys()"
   ]
  },
  {
   "cell_type": "code",
   "execution_count": null,
   "metadata": {},
   "outputs": [],
   "source": [
    "# Save references to each table\n",
    "Measurement=Base.classes.measurement\n",
    "Station=Base.classes.station"
   ]
  },
  {
   "cell_type": "code",
   "execution_count": null,
   "metadata": {},
   "outputs": [],
   "source": [
    "# Create our session (link) from Python to the DB\n",
    "session = Session(engine)"
   ]
  },
  {
   "cell_type": "markdown",
   "metadata": {},
   "source": [
    "# Exploratory Climate Analysis"
   ]
  },
  {
   "cell_type": "code",
   "execution_count": null,
   "metadata": {},
   "outputs": [],
   "source": [
    "# Design a query to retrieve the last 12 months of precipitation data and plot the results\n",
    "# I've made the decision to limit my search to the station in Honolulu so I'm not plotting multiple values on the same date.\n",
    "\n",
    "# Calculate the date 1 year ago from the last data point in the database\n",
    "YearStart=dt.datetime.date(dt.datetime.fromisoformat(engine.execute(\"SELECT max(date) FROM measurement WHERE station in (SELECT station FROM station WHERE name like '%HONOLULU%')\").fetchall()[0][0]))- dt.timedelta(days=365)\n",
    "print(f\"The date the year of data will start on is {YearStart}.\")\n",
    "\n",
    "# Perform a query to retrieve the date and precipitation scores\n",
    "# Since the start date is 2014-10-30, we know there isn't a leap day in our year of data.\n",
    "engine.execute(f\"SELECT date, prcp FROM measurement WHERE (date >= '{YearStart}') AND (station in (SELECT station FROM station WHERE name like '%HONOLULU%')) ORDER BY date LIMIT 10\").fetchall()\n",
    "\n",
    "# Save the query results as a Pandas DataFrame and set the index to the date column\n",
    "df = pd.read_sql(f\"SELECT date, prcp FROM measurement WHERE (date >= '{YearStart}') AND (station in (SELECT station FROM station WHERE name like '%HONOLULU%')) ORDER BY date\", conn)\n",
    "df.set_index('date', inplace=True)\n",
    "# Sort the dataframe by date\n",
    "df.head()"
   ]
  },
  {
   "cell_type": "code",
   "execution_count": null,
   "metadata": {},
   "outputs": [],
   "source": [
    "# Use Pandas Plotting with Matplotlib to plot the data\n",
    "x_axis=df.index\n",
    "bars=df.prcp\n",
    "plt.figure(figsize=(10,5))\n",
    "plt.bar(x_axis,bars,width=2)\n",
    "plt.xticks([x for i,x in enumerate(x_axis) if i%30==0],rotation = 45)\n",
    "plt.ylim(-.05,1.41)\n",
    "plt.xlabel(\"Date\")\n",
    "plt.ylabel(\"Precipitation (in)\")\n",
    "plt.title(\"Precipitation by Date in Honolulu\")\n",
    "plt.show()"
   ]
  },
  {
   "source": [
    "# Use Pandas to calcualte the summary statistics for the precipitation data\n",
    "df.describe()"
   ],
   "cell_type": "code",
   "metadata": {},
   "execution_count": null,
   "outputs": []
  },
  {
   "cell_type": "code",
   "execution_count": null,
   "metadata": {},
   "outputs": [],
   "source": [
    "# Design a query to show the number of stations available in this dataset.\n",
    "Station_Count=engine.execute(\"SELECT COUNT(distinct station) FROM measurement\").fetchall()[0][0]\n",
    "print(f\"The number of unique stations available in the dataset is {Station_Count}.\")"
   ]
  },
  {
   "cell_type": "code",
   "execution_count": null,
   "metadata": {},
   "outputs": [],
   "source": [
    "# What are the most active stations? (i.e. what stations have the most rows)?\n",
    "# List the stations and the counts in descending order.\n",
    "engine.execute(\"SELECT station, COUNT(prcp) AS Records_Count, (SELECT name FROM station WHERE measurement.station = station.station) AS station_name FROM measurement GROUP BY station_name ORDER BY Records_Count DESC\").fetchall()\n"
   ]
  },
  {
   "cell_type": "code",
   "execution_count": null,
   "metadata": {},
   "outputs": [],
   "source": [
    "# Using the station id from the previous query, calculate the lowest temperature recorded, \n",
    "# highest temperature recorded, and average temperature of the most active station.\n",
    "Station_info=session.query(func.min(Measurement.tobs), func.max(Measurement.tobs), func.avg(Measurement.tobs)).filter(Measurement.station=='USC00519281').all()[0]\n",
    "print(f\"The temp. info for station USC00519281 is the following:\\nLow: {Station_info[0]}\\nHigh: {Station_info[1]}\\nAvg: {round(Station_info[2],2)}\")\n"
   ]
  },
  {
   "cell_type": "code",
   "execution_count": null,
   "metadata": {},
   "outputs": [],
   "source": [
    "# Choose the station with the highest number of temperature observations.\n",
    "engine.execute(\"SELECT station, COUNT(tobs) AS Records_Count, (SELECT name FROM station WHERE measurement.station = station.station) AS station_name FROM measurement GROUP BY station_name ORDER BY Records_Count DESC\").fetchall()\n"
   ]
  },
  {
   "cell_type": "code",
   "execution_count": null,
   "metadata": {},
   "outputs": [],
   "source": [
    "# Query the last 12 months of temperature observation data for this station and plot the results as a histogram\n",
    "# Calculate the date 1 year ago from the last data point in the database\n",
    "YearStart=dt.datetime.date(dt.datetime.fromisoformat(engine.execute(\"SELECT max(date) FROM measurement WHERE station = 'USC00519281'\").fetchall()[0][0]))- dt.timedelta(days=365)\n",
    "print(f\"The date the year of data will start on is {YearStart}.\")\n",
    "\n",
    "# Save the query results as a Pandas DataFrame and set the index to the date column\n",
    "Temp_df = pd.read_sql(f\"SELECT date, tobs as temp FROM measurement WHERE (date >= '{YearStart}') AND (station = 'USC00519281') ORDER BY date\", conn)\n",
    "Temp_df.set_index('date', inplace=True)\n",
    "# Sort the dataframe by date\n",
    "Temp_df.head()"
   ]
  },
  {
   "cell_type": "code",
   "execution_count": null,
   "metadata": {},
   "outputs": [],
   "source": [
    "#Plot the histogram\n",
    "Temp_df[\"temp\"].plot.hist(title=\"Temperature Distribution in Waihee\", color=\"red\",bins=12)\n",
    "plt.xlabel(\"Temp (F)\")\n",
    "plt.show()"
   ]
  },
  {
   "cell_type": "markdown",
   "metadata": {},
   "source": [
    "## Bonus Challenge"
   ]
  },
  {
   "source": [
    "## Hawaii is reputed to enjoy mild weather all year. Is there a meaningful difference between the temperature in June and December?"
   ],
   "cell_type": "markdown",
   "metadata": {}
  },
  {
   "cell_type": "code",
   "execution_count": null,
   "metadata": {},
   "outputs": [],
   "source": [
    "#Determine the average temp in June and December across all stations and all years of the data set.\n",
    "June_Avg=engine.execute(\"SELECT avg(tobs), count(tobs), (SELECT SUM((tobs-(SELECT AVG(tobs) FROM measurement))*(tobs-(SELECT AVG(tobs) FROM measurement)) ) / (COUNT(tobs)-1)) AS Variance FROM measurement WHERE date LIKE '%-06-%' ORDER BY date\").fetchall()[0]\n",
    "Dec_Avg=engine.execute(\"SELECT avg(tobs), count(tobs), (SELECT SUM((tobs-(SELECT AVG(tobs) FROM measurement))*(tobs-(SELECT AVG(tobs) FROM measurement)) ) / (COUNT(tobs)-1)) AS Variance FROM measurement WHERE date LIKE '%-12-%' ORDER BY date\").fetchall()[0]\n",
    "print('(average          , count, variance        )')\n",
    "#To use the independent t-test to compare 2 means using an we need to see if the count in each sample is similar and if the variances are 'close' meaning one isn't more that twice the other. \n",
    "print(June_Avg)\n",
    "print(Dec_Avg)"
   ]
  },
  {
   "cell_type": "code",
   "execution_count": null,
   "metadata": {},
   "outputs": [],
   "source": [
    "#We need to show that these samples are normally distributed from the histograms below, it is clear that they are.\n",
    "pd.read_sql(\"SELECT tobs FROM measurement WHERE date LIKE '%-06-%' ORDER BY date\", conn).plot.hist(title=\"June Temperature Distribution\", color=\"red\", legend=None)\n",
    "plt.xlabel(\"Temp (F)\")\n",
    "plt.show()"
   ]
  },
  {
   "cell_type": "code",
   "execution_count": null,
   "metadata": {},
   "outputs": [],
   "source": [
    "pd.read_sql(\"SELECT tobs FROM measurement WHERE date LIKE '%-12-%' ORDER BY date\", conn).plot.hist(title=\"December Temperature Distribution\", color=\"red\", legend=None)\n",
    "plt.xlabel(\"Temp (F)\")\n",
    "plt.show()"
   ]
  },
  {
   "cell_type": "code",
   "execution_count": null,
   "metadata": {},
   "outputs": [],
   "source": [
    "June=np.ravel(engine.execute(\"SELECT tobs FROM measurement WHERE date LIKE '%-06-%' ORDER BY date\").fetchall())\n",
    "December=np.ravel(engine.execute(\"SELECT tobs FROM measurement WHERE date LIKE '%-12-%' ORDER BY date\").fetchall())\n",
    "print(June,len(June))\n",
    "print(December,len(December))"
   ]
  },
  {
   "cell_type": "code",
   "execution_count": null,
   "metadata": {},
   "outputs": [],
   "source": [
    "#Use the t-test to determine whether the difference in the means, if any, is statistically significant. Will you use a paired t-test, or an unpaired t-test? Why? - answered above. Also we use an unpaired test becasue the samples are independent of eachother.\n",
    "st.ttest_ind(June,December)\n"
   ]
  },
  {
   "source": [
    "According to the test the means are different and the p-value being so low indicates that with any other sample, this is extremely likely to be the outcome again. "
   ],
   "cell_type": "markdown",
   "metadata": {}
  },
  {
   "source": [
    "## Bonus part 2"
   ],
   "cell_type": "markdown",
   "metadata": {}
  },
  {
   "cell_type": "code",
   "execution_count": null,
   "metadata": {},
   "outputs": [],
   "source": [
    "# This function called `calc_temps` will accept start date and end date in the format '%Y-%m-%d' \n",
    "# and return the minimum, average, and maximum temperatures for that range of dates\n",
    "def calc_temps(start_date, end_date):\n",
    "    \"\"\"TMIN, TAVG, and TMAX for a list of dates.\n",
    "    \n",
    "    Args:\n",
    "        start_date (string): A date string in the format %Y-%m-%d\n",
    "        end_date (string): A date string in the format %Y-%m-%d\n",
    "        \n",
    "    Returns:\n",
    "        TMIN, TAVE, and TMAX\n",
    "    \"\"\"\n",
    "    \n",
    "    return session.query(func.min(Measurement.tobs), func.avg(Measurement.tobs), func.max(Measurement.tobs)).\\\n",
    "        filter(Measurement.date >= start_date).filter(Measurement.date <= end_date).all()\n",
    "\n",
    "# function usage example\n",
    "print(calc_temps('2012-02-28', '2012-03-05'))"
   ]
  },
  {
   "cell_type": "code",
   "execution_count": null,
   "metadata": {},
   "outputs": [],
   "source": [
    "# Use your previous function `calc_temps` to calculate the tmin, tavg, and tmax \n",
    "# for your trip using the previous year's data for those same dates.\n",
    "def VacEst(VS,VE):\n",
    "    LY_Vacation_Start=str(int(VS[:4])-1)+VS[4:]\n",
    "    LY_Vacation_End=str(int(VE[:4])-1)+VE[4:]\n",
    "    [(tmin,tavg,tmax)]=calc_temps(LY_Vacation_Start, LY_Vacation_End)\n",
    "    return (tmin,tavg,tmax)\n",
    "\n",
    "Vacation_Start='2016-04-03'\n",
    "Vacation_End='2016-04-13'\n",
    "(tmin,tavg,tmax)=VacEst(Vacation_Start,Vacation_End)"
   ]
  },
  {
   "cell_type": "code",
   "execution_count": null,
   "metadata": {},
   "outputs": [],
   "source": [
    "# Plot the results from your previous query as a bar chart. \n",
    "# Use \"Trip Avg Temp\" as your Title\n",
    "# Use the average temperature for the y value\n",
    "# Use the peak-to-peak (tmax-tmin) value as the y error bar (yerr)\n",
    "\n",
    "plt.bar([\"\"],[tavg],width=.33, color='red',yerr=tmax-tmin)\n",
    "plt.ylabel(\"Average Temperature (F)\")\n",
    "plt.title(\"Trip Avg Temp\")\n",
    "plt.xlim(-.5,.5)\n",
    "plt.ylim(0,100)\n",
    "plt.show()"
   ]
  },
  {
   "cell_type": "code",
   "execution_count": null,
   "metadata": {},
   "outputs": [],
   "source": [
    "# Calculate the total amount of rainfall per weather station for your trip dates using the previous year's matching dates.\n",
    "# Sort this in descending order by precipitation amount and list the station, name, latitude, longitude, and elevation\n",
    "LY_Vacation_Start=str(int(Vacation_Start[:4])-1)+Vacation_Start[4:]\n",
    "LY_Vacation_End=str(int(Vacation_End[:4])-1)+Vacation_End[4:]\n",
    "engine.execute(f\"SELECT m.date, ROUND(SUM(m.prcp),2) as TotalRainfall, m.station, s.name, s.latitude, s.longitude, s.elevation FROM measurement m INNER JOIN station s ON s.station = m.station WHERE m.date <= '{LY_Vacation_End}' and m.date >= '{LY_Vacation_Start}' GROUP BY m.station ORDER BY TotalRainfall DESC\").fetchall()\n"
   ]
  },
  {
   "cell_type": "code",
   "execution_count": null,
   "metadata": {},
   "outputs": [],
   "source": [
    "# Create a query that will calculate the daily normals \n",
    "# (i.e. the averages for tmin, tmax, and tavg for all historic data matching a specific month and day)\n",
    "\n",
    "def daily_normals(date):\n",
    "    \"\"\"Daily Normals.\n",
    "    \n",
    "    Args:\n",
    "        date (str): A date string in the format '%m-%d'\n",
    "        \n",
    "    Returns:\n",
    "        A list of tuples containing the daily normals, tmin, tavg, and tmax\n",
    "    \n",
    "    \"\"\"\n",
    "    \n",
    "    sel = [func.min(Measurement.tobs), func.avg(Measurement.tobs), func.max(Measurement.tobs)]\n",
    "    return session.query(*sel).filter(func.strftime(\"%m-%d\", Measurement.date) == date).all()\n",
    "    \n",
    "daily_normals(\"01-01\")"
   ]
  },
  {
   "cell_type": "code",
   "execution_count": null,
   "metadata": {
    "tags": []
   },
   "outputs": [],
   "source": [
    "# calculate the daily normals for your trip\n",
    "# push each tuple of calculations into a list called `normals`\n",
    "\n",
    "# Set the start and end date of the trip\n",
    "Vacation_Start='2016-04-03'\n",
    "Vacation_End='2016-04-13'\n",
    "# Use the start and end date to create a range of dates\n",
    "dateRange=[]\n",
    "dateCounter=Vacation_Start\n",
    "while dateCounter<=Vacation_End:\n",
    "    dateRange.append(dateCounter[5:])\n",
    "    if int(dateCounter[-2:])<9:\n",
    "        dateCounter=dateCounter[:9]+str(int(dateCounter[-1:])+1)\n",
    "    else:\n",
    "        dateCounter=dateCounter[:8]+str(int(dateCounter[-2:])+1)\n",
    "\n",
    "# Stip off the year and save a list of %m-%d strings\n",
    "print(dateRange)\n",
    "# Loop through the list of %m-%d strings and calculate the normals for each date\n",
    "TripNormals=[]\n",
    "for date in dateRange:\n",
    "    TripNormals.append(daily_normals(date)[0])\n",
    "\n",
    "print (TripNormals)"
   ]
  },
  {
   "cell_type": "code",
   "execution_count": null,
   "metadata": {},
   "outputs": [],
   "source": [
    "# Load the previous query results into a Pandas DataFrame and add the `trip_dates` range as the `date` index\n",
    "TripMin=[x[0] for x in TripNormals]\n",
    "TripAvg=[round(x[1],2) for x in TripNormals]\n",
    "TripMax=[x[2] for x in TripNormals]\n",
    "Trip_df=pd.DataFrame({\n",
    "    \"Date\": dateRange,\n",
    "    \"Min\": TripMin,\n",
    "    \"Avg\": TripAvg,\n",
    "    \"Max\": TripMax\n",
    "})\n",
    "Trip_df.set_index('Date', inplace=True)\n",
    "Trip_df.head()"
   ]
  },
  {
   "cell_type": "code",
   "execution_count": null,
   "metadata": {},
   "outputs": [],
   "source": [
    "# Plot the daily normals as an area plot with `stacked=False`\n"
   ]
  }
 ],
 "metadata": {
  "kernel_info": {
   "name": "python3"
  },
  "kernelspec": {
   "display_name": "Python 3",
   "language": "python",
   "name": "python3"
  },
  "language_info": {
   "codemirror_mode": {
    "name": "ipython",
    "version": 3
   },
   "file_extension": ".py",
   "mimetype": "text/x-python",
   "name": "python",
   "nbconvert_exporter": "python",
   "pygments_lexer": "ipython3",
   "version": "3.8.3-final"
  },
  "nteract": {
   "version": "0.12.3"
  },
  "varInspector": {
   "cols": {
    "lenName": 16,
    "lenType": 16,
    "lenVar": 40
   },
   "kernels_config": {
    "python": {
     "delete_cmd_postfix": "",
     "delete_cmd_prefix": "del ",
     "library": "var_list.py",
     "varRefreshCmd": "print(var_dic_list())"
    },
    "r": {
     "delete_cmd_postfix": ") ",
     "delete_cmd_prefix": "rm(",
     "library": "var_list.r",
     "varRefreshCmd": "cat(var_dic_list()) "
    }
   },
   "types_to_exclude": [
    "module",
    "function",
    "builtin_function_or_method",
    "instance",
    "_Feature"
   ],
   "window_display": false
  }
 },
 "nbformat": 4,
 "nbformat_minor": 2
}